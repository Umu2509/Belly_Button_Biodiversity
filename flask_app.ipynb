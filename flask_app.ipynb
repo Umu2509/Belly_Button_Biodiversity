{
 "cells": [
  {
   "cell_type": "code",
   "execution_count": 1,
   "metadata": {
    "collapsed": true
   },
   "outputs": [],
   "source": [
    "# Dependencies\n",
    "import sqlalchemy\n",
    "from sqlalchemy.ext.automap import automap_base\n",
    "from sqlalchemy.orm import Session\n",
    "from sqlalchemy import create_engine, func, desc\n",
    "from flask import Flask, jsonify, render_template, request\n",
    "import csv"
   ]
  },
  {
   "cell_type": "code",
   "execution_count": 2,
   "metadata": {
    "collapsed": true
   },
   "outputs": [],
   "source": [
    "# Connect to sqlite database\n",
    "engine = create_engine(\"sqlite:///belly_button_biodiversity.sqlite\")\n",
    "Base = automap_base()\n",
    "Base.prepare(engine, reflect=True)\n",
    "session = Session(engine)"
   ]
  },
  {
   "cell_type": "code",
   "execution_count": 3,
   "metadata": {
    "collapsed": true
   },
   "outputs": [],
   "source": [
    "# Storing tables\n",
    "Otu = Base.classes.otu\n",
    "Samples = Base.classes.samples\n",
    "Samples_Metadata = Base.classes.samples_metadata"
   ]
  },
  {
   "cell_type": "code",
   "execution_count": 16,
   "metadata": {},
   "outputs": [],
   "source": [
    "def names():\n",
    "\n",
    "    # Empty list for sample names\n",
    "    sample_ids = []\n",
    "    \n",
    "    # Grab metadata table\n",
    "    results = session.query(Samples_Metadata.SAMPLEID)\n",
    "\n",
    "    # Loop through query & grab ids\n",
    "    for result in results:\n",
    "        sample_ids.append(\"BB_\" + str(result[0]))\n",
    "\n",
    "    return jsonify(sample_ids)\n"
   ]
  },
  {
   "cell_type": "code",
   "execution_count": 17,
   "metadata": {},
   "outputs": [],
   "source": [
    "def otu():\n",
    "\n",
    "    # Empty list for descriptions\n",
    "    otu_desc = []\n",
    "    \n",
    "    # Grab otu table\n",
    "    results = session.query(Otu.lowest_taxonomic_unit_found)\n",
    "\n",
    "    # Loop through query & grab descriptions\n",
    "    for result in results:\n",
    "        otu_desc.append(result[0])\n",
    "\n",
    "    return jsonify(otu_desc)\n"
   ]
  },
  {
   "cell_type": "code",
   "execution_count": 18,
   "metadata": {
    "collapsed": true
   },
   "outputs": [],
   "source": [
    "def metadata(sample):\n",
    "    \n",
    "    # Grab input\n",
    "    sample_id = int(sample.split(\"_\")[1])\n",
    "\n",
    "    # Empty dictionary for data\n",
    "    sample_metadata = {}\n",
    "\n",
    "    # Grab metadata table\n",
    "    samples = session.query(Samples_Metadata)\n",
    "\n",
    "    # Loop through query & grab info\n",
    "    for info in samples:\n",
    "        if (sample_id == info.SAMPLEID):\n",
    "            sample_metadata[\"AGE\"] = info.AGE\n",
    "            sample_metadata[\"BBTYPE\"] = info.BBTYPE\n",
    "            sample_metadata[\"ETHNICITY\"] = info.ETHNICITY\n",
    "            sample_metadata[\"GENDER\"] = info.GENDER\n",
    "            sample_metadata[\"LOCATION\"] = info.LOCATION\n",
    "            sample_metadata[\"SAMPLEID\"] = info.SAMPLEID\n",
    "\n",
    "    return jsonify(sample_metadata)"
   ]
  },
  {
   "cell_type": "code",
   "execution_count": 19,
   "metadata": {
    "collapsed": true
   },
   "outputs": [],
   "source": [
    "def wfreq(sample):\n",
    "\n",
    "    # Grab input\n",
    "    sample_id = int(sample.split(\"_\")[1])\n",
    "\n",
    "    # Grab metadata table\n",
    "    results = session.query(Samples_Metadata)\n",
    "\n",
    "    # Loop through and grab wfreq\n",
    "    for result in results:\n",
    "        if (sample_id == result.SAMPLEID):\n",
    "            wfreq = result.WFREQ\n",
    "\n",
    "    return jsonify(wfreq)"
   ]
  },
  {
   "cell_type": "code",
   "execution_count": 20,
   "metadata": {
    "collapsed": true
   },
   "outputs": [],
   "source": [
    "def samples(sample):\n",
    "\n",
    "    # Create sample query\n",
    "    sample_query = \"Samples.\" + sample\n",
    "\n",
    "    # Create empty dictionary & lists\n",
    "    samples_info = {}\n",
    "    otu_ids = []\n",
    "    sample_values = []\n",
    "\n",
    "    # Grab info\n",
    "    results = session.query(Samples.otu_id, sample_query).order_by(desc(sample_query))\n",
    "\n",
    "    # Loop through & append\n",
    "    for result in results:\n",
    "        otu_ids.append(result[0])\n",
    "        sample_values.append(result[1])\n",
    "\n",
    "    # Add to dictionary\n",
    "    samples_info = {\n",
    "        \"otu_ids\": otu_ids,\n",
    "        \"sample_values\": sample_values\n",
    "    }\n",
    "\n",
    "    return jsonify(samples_info)"
   ]
  },
  {
   "cell_type": "code",
   "execution_count": null,
   "metadata": {
    "collapsed": true
   },
   "outputs": [],
   "source": []
  }
 ],
 "metadata": {
  "kernelspec": {
   "display_name": "Python 3",
   "language": "python",
   "name": "python3"
  },
  "language_info": {
   "codemirror_mode": {
    "name": "ipython",
    "version": 3
   },
   "file_extension": ".py",
   "mimetype": "text/x-python",
   "name": "python",
   "nbconvert_exporter": "python",
   "pygments_lexer": "ipython3",
   "version": "3.6.2"
  }
 },
 "nbformat": 4,
 "nbformat_minor": 2
}
